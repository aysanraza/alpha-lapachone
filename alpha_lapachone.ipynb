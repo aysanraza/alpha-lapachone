{
  "nbformat": 4,
  "nbformat_minor": 0,
  "metadata": {
    "colab": {
      "provenance": [],
      "authorship_tag": "ABX9TyNP2bX9V/yeDd3T2jUwxvh2"
    },
    "kernelspec": {
      "name": "python3",
      "display_name": "Python 3"
    },
    "language_info": {
      "name": "python"
    }
  },
  "cells": [
    {
      "cell_type": "markdown",
      "metadata": {
        "id": "Qlpf8eCEZXu6"
      },
      "source": [
        "# Introduction and Problem Statement"
      ]
    },
    {
      "cell_type": "markdown",
      "metadata": {
        "id": "Ipu1YqVaZjY9"
      },
      "source": [
        "Introduction:\n",
        "The imbalance between energy intake and expenditure where the intake exceeds the demand or usage of energy in a human body results in the activation of adipogenesis [1]. Adipogenesis is a process where adipocytes are formed and accumulate as adipose tissue. This process can result in the formation of fat deposits at different sites in the human body [2]. The persistent formation of fat deposits results in obesity, a biological process that can cause downstream health problems, including type 2 diabetes [3].\n",
        "\n",
        "Alpha-Lapachone is an organic heterotricyclic compound and an organooxygen compound. Alpha-Lapachone is a natural product found in Firmiana simplex, Catalpa ovata, and other organisms [4]. The compound had been reported for having the anti-infectious activity [5].\n",
        "\n"
      ]
    },
    {
      "cell_type": "markdown",
      "metadata": {
        "id": "c3-v7_jZZ4FB"
      },
      "source": [
        "Problem Statement:\n",
        "\n",
        "Beta-Lapachone is a member of the Naphthoquinones class of compounds. The naphthoquinones compounds are mostly found to have antibacterial, antifungal, antiviral, insecticidal, anti-inflammatory, and antipyretic properties [6]. Recent experimentation shows beta-lapachone; a member of naphthoquinones, to have antiobesity activity [7]. Alpha-lapachone is another member of naphthoquinones class with a similar chemical constitution. There is a need to annotate alpha-lapachone against the possession of antiobesity activity. This research will broaden the scope of the chemical nature of antiobesity compounds.\n",
        "\n"
      ]
    },
    {
      "cell_type": "markdown",
      "metadata": {
        "id": "aSL5sbHoZ7bY"
      },
      "source": [
        "References:\n",
        "\n",
        "\n",
        "\n",
        "1. Michael W Schwartz, Randy J Seeley, Lori M Zeltser, Adam Drewnowski, Eric Ravussin, Leanne M Redman, Rudolph L Leibel, Obesity Pathogenesis: An Endocrine Society Scientific Statement, Endocrine Reviews, Volume 38, Issue 4, 1 August 2017, Pages 267–296, https://doi.org/10.1210/er.2017-00111  \n",
        "2. Haider, Nida & Larose, Louise. (2019). Harnessing adipogenesis to prevent obesity. Adipocyte. 8. 1-7. 10.1080/21623945.2019.1583037.   \n",
        "3. Heidi S Camp, Delin Ren, Todd Leff, Adipogenesis and fat-cell function in obesity and diabetes, Trends in Molecular Medicine,Volume 8, Issue 9, 2002, Pages 442-447, ISSN 1471-4914, https://doi.org/10.1016/S1471-4914(02)02396-1.\n",
        "4. National Center for Biotechnology Information (2023). PubChem Compound Summary for CID 72732, alpha-Lapachone. Retrieved September 26, 2023 from https://pubchem.ncbi.nlm.nih.gov/compound/alpha-Lapachone.\n",
        "5. Peixoto, J. F., Oliveira, A. D. S., Gonçalves-Oliveira, L. F., Souza-Silva, F., & Alves, C. R. (2023). Epoxy-α-lapachone (2,2-Dimethyl-3,4-dihydro-spiro[2H-naphtho[2,3-b]pyran-10,2'-oxirane]-5(10H)-one): a promising molecule to control infections caused by protozoan parasites. The Brazilian journal of infectious diseases : an official publication of the Brazilian Society of Infectious Diseases, 27(2), 102743. https://doi.org/10.1016/j.bjid.2023.102743\n",
        "6. Dmitry Aminin, Sergey Polonik, 1,4-Naphthoquinones: Some Biological Properties and Application, Chemical and Pharmaceutical Bulletin, 2020, Volume 68, Issue 1, Pages 46-57, Released on J-STAGE January 01, 2020, Online ISSN 1347-5223, Print ISSN 0009-2363, https://doi.org/10.1248/cpb.c19-00911\n",
        "7. Kwak, H. J., Jeong, M. Y., Um, J. Y., & Park, J. (2019). β -Lapachone Regulates Obesity through Modulating Thermogenesis in Brown Adipose Tissue and Adipocytes: Role of AMPK Signaling Pathway. The American journal of Chinese medicine, 47(4), 803–822. https://doi.org/10.1142/S0192415X19500423\n"
      ]
    }
  ]
}